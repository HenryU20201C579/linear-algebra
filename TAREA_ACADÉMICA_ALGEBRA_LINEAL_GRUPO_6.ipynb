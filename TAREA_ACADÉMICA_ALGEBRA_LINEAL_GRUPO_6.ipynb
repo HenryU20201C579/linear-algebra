{
  "nbformat": 4,
  "nbformat_minor": 0,
  "metadata": {
    "colab": {
      "name": "TAREA ACADÉMICA - ALGEBRA LINEAL - GRUPO 6.ipynb",
      "provenance": [],
      "authorship_tag": "ABX9TyNQMQ8OAZt9GxUkHomQ2td2",
      "include_colab_link": true
    },
    "kernelspec": {
      "name": "python3",
      "display_name": "Python 3"
    },
    "language_info": {
      "name": "python"
    }
  },
  "cells": [
    {
      "cell_type": "markdown",
      "metadata": {
        "id": "view-in-github",
        "colab_type": "text"
      },
      "source": [
        "<a href=\"https://colab.research.google.com/github/HenryU20201C579/linear-algebra/blob/main/TAREA_ACAD%C3%89MICA_ALGEBRA_LINEAL_GRUPO_6.ipynb\" target=\"_parent\"><img src=\"https://colab.research.google.com/assets/colab-badge.svg\" alt=\"Open In Colab\"/></a>"
      ]
    },
    {
      "cell_type": "code",
      "execution_count": null,
      "metadata": {
        "colab": {
          "base_uri": "https://localhost:8080/",
          "height": 459
        },
        "id": "Ry_-G6n6mpiN",
        "outputId": "bc750c60-7f7d-443c-dc97-19a5ed9f8778"
      },
      "outputs": [
        {
          "output_type": "stream",
          "name": "stdout",
          "text": [
            "INGRESE EL NUMERO DE PARES ORDENADOS(N): \n",
            "5\n",
            "[280, 937, 1261, 2244, 2345]\n",
            "[769, 1216, 1704, 1766, 2407]\n",
            "LOS COEFICIENTES SON LOS SIGUIENTES:\n",
            "[ 1.16698239e-06 -9.80265205e-04  4.51112774e-01  6.93923618e+02\n",
            " -8.82950044e-06  2.71198480e-02 -2.58786933e+01  8.91759972e+03\n",
            "  6.04455458e-06 -2.91487021e-02  4.50759484e+01 -2.09070014e+04\n",
            " -3.80964994e-05  2.68008873e-01 -6.21745651e+02  4.77875555e+05]\n",
            "[[1.1669823868942689e-06, -0.000980265204991185, 0.4511127738806596, 693.9236180276213], [-8.829500439517227e-06, 0.027119848020051535, -25.878693317984375, 8917.599720720133], [6.044554580112568e-06, -0.029148702119208187, 45.0759484076224, -20907.001351276693], [-3.809649938649851e-05, 0.2680088731840171, -621.745650572814, 477875.554686089]]\n"
          ]
        },
        {
          "output_type": "display_data",
          "data": {
            "text/plain": [
              "<Figure size 432x288 with 1 Axes>"
            ],
            "image/png": "[encoded data removed]"
          },
          "metadata": {
            "needs_background": "light"
          }
        }
      ],
      "source": [
        "import numpy as np\n",
        "import matplotlib.pyplot as plt\n",
        "import sympy as sp\n",
        "import random\n",
        "\n",
        "# a = [0, 1, 2, 3]\n",
        "# b = [1, 1, 0, 10]\n",
        "print(\"INGRESE EL NUMERO DE PARES ORDENADOS(N): \")\n",
        "n = input()\n",
        "\n",
        "a = []\n",
        "b = []\n",
        "\n",
        "for i in range(int(n)):\n",
        "    a.append(random.randint(0, 3000))\n",
        "    b.append(random.randint(0, 3000))\n",
        "\n",
        "a.sort()\n",
        "b.sort()\n",
        "\n",
        "print(a)\n",
        "print(b)\n",
        "s = []\n",
        "\n",
        "for i in range(len(a)):\n",
        "    if (i == 0 or i == len(a) - 1):\n",
        "        s.append([a[i]**3, a[i]**2, a[i], 1])\n",
        "    else:\n",
        "        s.append([a[i]**3, a[i]**2, a[i], 1])\n",
        "        s.append([a[i]**3, a[i]**2, a[i], 1])\n",
        "\n",
        "for i in range(len(a) - 2):#0 1 // 1 2\n",
        "    s.append([3*a[i + 1]**2, 2*a[i+1], 1, 0, -3*a[i + 1]**2, -  2*a[i+1], -1, 0])\n",
        "\n",
        "for i in range(len(a) - 2):#0 1 // 1 2\n",
        "    s.append([6*a[i + 1], 2, 0, 0, -6*a[i + 1], -2, 0, 0])\n",
        "\n",
        "s.append([6*a[0], 2, 0, 0])\n",
        "s.append([6*a[len(a) - 1], 2, 0, 0])\n",
        "\n",
        "#print(s)\n",
        "\n",
        "\n",
        "S = []\n",
        "cont = 0\n",
        "cont2 = 0\n",
        "cont3 = 0\n",
        "\n",
        "for i in range(2*(len(a)-1)):\n",
        "    S.append([])\n",
        "    for j in range(4*(len(a)-1)):#j = 4\n",
        "        if((j >= cont2) and (j <= cont2 + 3)):\n",
        "            S[i].append(s[i][cont3])\n",
        "            cont3 = cont3 + 1\n",
        "        else:\n",
        "            S[i].append(0)\n",
        "    cont = cont + 1\n",
        "    if(cont == 2): \n",
        "        cont2 = cont2 + 4\n",
        "        cont = 0\n",
        "    cont3 = 0\n",
        "\n",
        "for i in range(2*(len(a)-1)):\n",
        "    s.pop(0)\n",
        "\n",
        "cont = 0\n",
        "cont2 = 0\n",
        "cont3 = 0\n",
        "\n",
        "for i in range(len(a)-2):\n",
        "    S.append([])\n",
        "    for j in range(4*(len(a)-1)):#j = 4\n",
        "        if((j >= cont2) and (j <= cont2 + 7)):\n",
        "            S[i + 2*(len(a)-1)].append(s[i][cont3])\n",
        "            cont3 = cont3 + 1\n",
        "        else:\n",
        "            S[i + 2*(len(a)-1)].append(0)\n",
        "    cont2 = cont2 + 4\n",
        "    cont3 = 0\n",
        "\n",
        "for i in range(len(a)-2):\n",
        "    s.pop(0)\n",
        "\n",
        "cont = 0\n",
        "cont2 = 0\n",
        "cont3 = 0\n",
        "\n",
        "for i in range(len(a)-2):\n",
        "    S.append([])\n",
        "    for j in range(4*(len(a)-1)):#j = 4\n",
        "        if((j >= cont2) and (j <= cont2 + 7)):\n",
        "            S[i + 2*(len(a)-1) + len(a) - 2].append(s[i][cont3])\n",
        "            cont3 = cont3 + 1\n",
        "        else:\n",
        "            S[i + 2*(len(a)-1) + len(a) - 2].append(0)\n",
        "    cont2 = cont2 + 4\n",
        "    cont3 = 0\n",
        "\n",
        "for i in range(len(a)-2):\n",
        "    s.pop(0)\n",
        "\n",
        "S.append([])\n",
        "S[2*(len(a)-1) + 2*(len(a) - 2)].append(s[0][0])\n",
        "S[2*(len(a)-1) + 2*(len(a) - 2)].append(s[0][1])\n",
        "S[2*(len(a)-1) + 2*(len(a) - 2)].append(s[0][2])\n",
        "S[2*(len(a)-1) + 2*(len(a) - 2)].append(s[0][3])\n",
        "\n",
        "cont3 = 0\n",
        "for i in range(4*(len(a)-1) - 4):\n",
        "    i = 3\n",
        "    S[2*(len(a)-1) + 2*(len(a) - 2)].append(0)\n",
        "\n",
        "s.pop(0)\n",
        "\n",
        "S.append([])\n",
        "\n",
        "cont3 = 0\n",
        "for i in range(4*(len(a)-1) - 4):\n",
        "    i = 3\n",
        "    S[2*(len(a)-1) + 2*(len(a) - 2) + 1].append(0)\n",
        "\n",
        "S[2*(len(a)-1) + 2*(len(a) - 2) + 1].append(s[0][0])\n",
        "S[2*(len(a)-1) + 2*(len(a) - 2) + 1].append(s[0][1])\n",
        "S[2*(len(a)-1) + 2*(len(a) - 2) + 1].append(s[0][2])\n",
        "S[2*(len(a)-1) + 2*(len(a) - 2) + 1].append(s[0][3])\n",
        "\n",
        "B = []\n",
        "contB = 0\n",
        "for i in range(len(b)):\n",
        "    if(i == 0 or i == len(b) - 1):\n",
        "        B.append(b[i])\n",
        "    else:\n",
        "        B.append(b[i])\n",
        "        B.append(b[i])\n",
        "\n",
        "for i in range(4*(len(a)-1) - len(B)):\n",
        "    B.append(0)\n",
        "\n",
        "#print(B)\n",
        "coeficientes = np.linalg.solve(S, B)\n",
        "\n",
        "#print(S)\n",
        "\n",
        "print(\"LOS COEFICIENTES SON LOS SIGUIENTES:\")\n",
        "print(coeficientes)\n",
        "\n",
        "def h(x, arr):\n",
        "    return arr[0]*x**3 + arr[1]*x**2 + arr[2]*x + arr[3]\n",
        "\n",
        "contC = 0\n",
        "arr = []\n",
        "for i in range(len(a) - 1):\n",
        "    arr.append([])\n",
        "    for j in range(4):\n",
        "        arr[i].append(coeficientes[contC])\n",
        "        contC = contC + 1\n",
        "        \n",
        "print(arr)\n",
        "\n",
        "for i in range(len(a) - 1):\n",
        "    m = np.linspace(a[i], a[i+1], 100)\n",
        "    plt.plot(m, h(m, arr[i]))\n",
        "\n",
        "plt.show()\n",
        "\n"
      ]
    },
    {
      "cell_type": "code",
      "source": [
        ""
      ],
      "metadata": {
        "colab": {
          "base_uri": "https://localhost:8080/"
        },
        "id": "WU3VMZ8XmsFY",
        "outputId": "42783b65-0358-43f6-ee09-5aa635064d15"
      },
      "execution_count": null,
      "outputs": [
        {
          "output_type": "execute_result",
          "data": {
            "text/plain": [
              "False"
            ]
          },
          "metadata": {},
          "execution_count": 2
        }
      ]
    },
    {
      "cell_type": "code",
      "source": [
        ""
      ],
      "metadata": {
        "id": "fbwUm3Lm4cqX",
        "outputId": "cedef06e-dc96-4c9c-e0bd-e55059ce5a67",
        "colab": {
          "base_uri": "https://localhost:8080/"
        }
      },
      "execution_count": null,
      "outputs": [
        {
          "output_type": "execute_result",
          "data": {
            "text/plain": [
              "5"
            ]
          },
          "metadata": {},
          "execution_count": 1
        }
      ]
    },
    {
      "cell_type": "code",
      "source": [
        ""
      ],
      "metadata": {
        "id": "uOhUJr8FIzbf"
      },
      "execution_count": null,
      "outputs": []
    }
  ]
}